{
 "cells": [
  {
   "cell_type": "markdown",
   "metadata": {},
   "source": [
    "Importar librerías"
   ]
  },
  {
   "cell_type": "code",
   "execution_count": 52,
   "metadata": {},
   "outputs": [],
   "source": [
    "import pandas as pd\n",
    "from sklearn.model_selection import train_test_split\n",
    "from sklearn.preprocessing import LabelEncoder, StandardScaler\n",
    "from sklearn.linear_model import LogisticRegression\n",
    "from sklearn.svm import SVC\n",
    "from sklearn.ensemble import RandomForestClassifier\n",
    "from sklearn.metrics import confusion_matrix\n",
    "from sklearn.metrics import accuracy_score, classification_report\n",
    "from sklearn.metrics import roc_curve, auc, roc_auc_score\n",
    "import matplotlib.pyplot as plt\n",
    "import seaborn as sns"
   ]
  },
  {
   "cell_type": "markdown",
   "metadata": {},
   "source": [
    "Carga de datos"
   ]
  },
  {
   "cell_type": "code",
   "execution_count": 53,
   "metadata": {},
   "outputs": [
    {
     "data": {
      "text/html": [
       "<div>\n",
       "<style scoped>\n",
       "    .dataframe tbody tr th:only-of-type {\n",
       "        vertical-align: middle;\n",
       "    }\n",
       "\n",
       "    .dataframe tbody tr th {\n",
       "        vertical-align: top;\n",
       "    }\n",
       "\n",
       "    .dataframe thead th {\n",
       "        text-align: right;\n",
       "    }\n",
       "</style>\n",
       "<table border=\"1\" class=\"dataframe\">\n",
       "  <thead>\n",
       "    <tr style=\"text-align: right;\">\n",
       "      <th></th>\n",
       "      <th>ID</th>\n",
       "      <th>Diagnosis</th>\n",
       "      <th>radius1</th>\n",
       "      <th>texture1</th>\n",
       "      <th>perimeter1</th>\n",
       "      <th>area1</th>\n",
       "      <th>smoothness1</th>\n",
       "      <th>compactness1</th>\n",
       "      <th>concavity1</th>\n",
       "      <th>concave_points1</th>\n",
       "      <th>...</th>\n",
       "      <th>radius3</th>\n",
       "      <th>texture3</th>\n",
       "      <th>perimeter3</th>\n",
       "      <th>area3</th>\n",
       "      <th>smoothness3</th>\n",
       "      <th>compactness3</th>\n",
       "      <th>concavity3</th>\n",
       "      <th>concave_points3</th>\n",
       "      <th>symmetry3</th>\n",
       "      <th>fractal_dimension3</th>\n",
       "    </tr>\n",
       "  </thead>\n",
       "  <tbody>\n",
       "    <tr>\n",
       "      <th>99</th>\n",
       "      <td>862548</td>\n",
       "      <td>M</td>\n",
       "      <td>14.42</td>\n",
       "      <td>19.77</td>\n",
       "      <td>94.48</td>\n",
       "      <td>642.5</td>\n",
       "      <td>0.09752</td>\n",
       "      <td>0.11410</td>\n",
       "      <td>0.093880</td>\n",
       "      <td>0.058390</td>\n",
       "      <td>...</td>\n",
       "      <td>16.33</td>\n",
       "      <td>30.86</td>\n",
       "      <td>109.50</td>\n",
       "      <td>826.4</td>\n",
       "      <td>0.1431</td>\n",
       "      <td>0.30260</td>\n",
       "      <td>0.319400</td>\n",
       "      <td>0.15650</td>\n",
       "      <td>0.2718</td>\n",
       "      <td>0.09353</td>\n",
       "    </tr>\n",
       "    <tr>\n",
       "      <th>109</th>\n",
       "      <td>864018</td>\n",
       "      <td>B</td>\n",
       "      <td>11.34</td>\n",
       "      <td>21.26</td>\n",
       "      <td>72.48</td>\n",
       "      <td>396.5</td>\n",
       "      <td>0.08759</td>\n",
       "      <td>0.06575</td>\n",
       "      <td>0.051330</td>\n",
       "      <td>0.018990</td>\n",
       "      <td>...</td>\n",
       "      <td>13.01</td>\n",
       "      <td>29.15</td>\n",
       "      <td>83.99</td>\n",
       "      <td>518.1</td>\n",
       "      <td>0.1699</td>\n",
       "      <td>0.21960</td>\n",
       "      <td>0.312000</td>\n",
       "      <td>0.08278</td>\n",
       "      <td>0.2829</td>\n",
       "      <td>0.08832</td>\n",
       "    </tr>\n",
       "    <tr>\n",
       "      <th>401</th>\n",
       "      <td>904647</td>\n",
       "      <td>B</td>\n",
       "      <td>11.93</td>\n",
       "      <td>10.91</td>\n",
       "      <td>76.14</td>\n",
       "      <td>442.7</td>\n",
       "      <td>0.08872</td>\n",
       "      <td>0.05242</td>\n",
       "      <td>0.026060</td>\n",
       "      <td>0.017960</td>\n",
       "      <td>...</td>\n",
       "      <td>13.80</td>\n",
       "      <td>20.14</td>\n",
       "      <td>87.64</td>\n",
       "      <td>589.5</td>\n",
       "      <td>0.1374</td>\n",
       "      <td>0.15750</td>\n",
       "      <td>0.151400</td>\n",
       "      <td>0.06876</td>\n",
       "      <td>0.2460</td>\n",
       "      <td>0.07262</td>\n",
       "    </tr>\n",
       "    <tr>\n",
       "      <th>276</th>\n",
       "      <td>8911230</td>\n",
       "      <td>B</td>\n",
       "      <td>11.33</td>\n",
       "      <td>14.16</td>\n",
       "      <td>71.79</td>\n",
       "      <td>396.6</td>\n",
       "      <td>0.09379</td>\n",
       "      <td>0.03872</td>\n",
       "      <td>0.001487</td>\n",
       "      <td>0.003333</td>\n",
       "      <td>...</td>\n",
       "      <td>12.20</td>\n",
       "      <td>18.99</td>\n",
       "      <td>77.37</td>\n",
       "      <td>458.0</td>\n",
       "      <td>0.1259</td>\n",
       "      <td>0.07348</td>\n",
       "      <td>0.004955</td>\n",
       "      <td>0.01111</td>\n",
       "      <td>0.2758</td>\n",
       "      <td>0.06386</td>\n",
       "    </tr>\n",
       "    <tr>\n",
       "      <th>343</th>\n",
       "      <td>898431</td>\n",
       "      <td>M</td>\n",
       "      <td>19.68</td>\n",
       "      <td>21.68</td>\n",
       "      <td>129.90</td>\n",
       "      <td>1194.0</td>\n",
       "      <td>0.09797</td>\n",
       "      <td>0.13390</td>\n",
       "      <td>0.186300</td>\n",
       "      <td>0.110300</td>\n",
       "      <td>...</td>\n",
       "      <td>22.75</td>\n",
       "      <td>34.66</td>\n",
       "      <td>157.60</td>\n",
       "      <td>1540.0</td>\n",
       "      <td>0.1218</td>\n",
       "      <td>0.34580</td>\n",
       "      <td>0.473400</td>\n",
       "      <td>0.22550</td>\n",
       "      <td>0.4045</td>\n",
       "      <td>0.07918</td>\n",
       "    </tr>\n",
       "  </tbody>\n",
       "</table>\n",
       "<p>5 rows × 32 columns</p>\n",
       "</div>"
      ],
      "text/plain": [
       "          ID Diagnosis  radius1  texture1  perimeter1   area1  smoothness1  \\\n",
       "99    862548         M    14.42     19.77       94.48   642.5      0.09752   \n",
       "109   864018         B    11.34     21.26       72.48   396.5      0.08759   \n",
       "401   904647         B    11.93     10.91       76.14   442.7      0.08872   \n",
       "276  8911230         B    11.33     14.16       71.79   396.6      0.09379   \n",
       "343   898431         M    19.68     21.68      129.90  1194.0      0.09797   \n",
       "\n",
       "     compactness1  concavity1  concave_points1  ...  radius3  texture3  \\\n",
       "99        0.11410    0.093880         0.058390  ...    16.33     30.86   \n",
       "109       0.06575    0.051330         0.018990  ...    13.01     29.15   \n",
       "401       0.05242    0.026060         0.017960  ...    13.80     20.14   \n",
       "276       0.03872    0.001487         0.003333  ...    12.20     18.99   \n",
       "343       0.13390    0.186300         0.110300  ...    22.75     34.66   \n",
       "\n",
       "     perimeter3   area3  smoothness3  compactness3  concavity3  \\\n",
       "99       109.50   826.4       0.1431       0.30260    0.319400   \n",
       "109       83.99   518.1       0.1699       0.21960    0.312000   \n",
       "401       87.64   589.5       0.1374       0.15750    0.151400   \n",
       "276       77.37   458.0       0.1259       0.07348    0.004955   \n",
       "343      157.60  1540.0       0.1218       0.34580    0.473400   \n",
       "\n",
       "     concave_points3  symmetry3  fractal_dimension3  \n",
       "99           0.15650     0.2718             0.09353  \n",
       "109          0.08278     0.2829             0.08832  \n",
       "401          0.06876     0.2460             0.07262  \n",
       "276          0.01111     0.2758             0.06386  \n",
       "343          0.22550     0.4045             0.07918  \n",
       "\n",
       "[5 rows x 32 columns]"
      ]
     },
     "execution_count": 53,
     "metadata": {},
     "output_type": "execute_result"
    }
   ],
   "source": [
    "\n",
    "data_path = 'data/wdbc.data'\n",
    "columns = ['ID', 'Diagnosis', 'radius1', 'texture1', 'perimeter1', 'area1', 'smoothness1', 'compactness1', 'concavity1', 'concave_points1', 'symmetry1', 'fractal_dimension1', \n",
    "           'radius2', 'texture2', 'perimeter2', 'area2', 'smoothness2', 'compactness2', 'concavity2', 'concave_points2', 'symmetry2', 'fractal_dimension2', \n",
    "           'radius3', 'texture3', 'perimeter3', 'area3', 'smoothness3', 'compactness3', 'concavity3', 'concave_points3', 'symmetry3', 'fractal_dimension3']\n",
    "df = pd.read_csv(data_path, header=None, names=columns)\n",
    "df.sample(5)"
   ]
  },
  {
   "cell_type": "markdown",
   "metadata": {},
   "source": [
    "Total valores nulos o NA"
   ]
  },
  {
   "cell_type": "code",
   "execution_count": 54,
   "metadata": {},
   "outputs": [
    {
     "data": {
      "text/plain": [
       "0"
      ]
     },
     "execution_count": 54,
     "metadata": {},
     "output_type": "execute_result"
    }
   ],
   "source": [
    "df.isnull().sum().sum()"
   ]
  },
  {
   "cell_type": "markdown",
   "metadata": {},
   "source": [
    "Eliminación de la columna ID"
   ]
  },
  {
   "cell_type": "code",
   "execution_count": 55,
   "metadata": {},
   "outputs": [],
   "source": [
    "df.drop(['ID'], axis=1, inplace=True)"
   ]
  },
  {
   "cell_type": "markdown",
   "metadata": {},
   "source": [
    "Codificación de etiquetas (M = maligno, B = benigno) a números -->"
   ]
  },
  {
   "cell_type": "code",
   "execution_count": 56,
   "metadata": {},
   "outputs": [],
   "source": [
    "labelencoder_Y = LabelEncoder()\n",
    "df['Diagnosis'] = labelencoder_Y.fit_transform(df['Diagnosis'])"
   ]
  },
  {
   "cell_type": "markdown",
   "metadata": {},
   "source": [
    "Separación de las características y etiquetas"
   ]
  },
  {
   "cell_type": "code",
   "execution_count": 57,
   "metadata": {},
   "outputs": [],
   "source": [
    "X = df.drop(['Diagnosis'], axis=1)\n",
    "y = df['Diagnosis']"
   ]
  },
  {
   "cell_type": "markdown",
   "metadata": {},
   "source": [
    "Normalización de las características"
   ]
  },
  {
   "cell_type": "code",
   "execution_count": 58,
   "metadata": {},
   "outputs": [],
   "source": [
    "scaler = StandardScaler()\n",
    "X_scaled = scaler.fit_transform(X)"
   ]
  },
  {
   "cell_type": "markdown",
   "metadata": {},
   "source": [
    "División del conjunto de datos en entrenamiento y prueba"
   ]
  },
  {
   "cell_type": "code",
   "execution_count": 59,
   "metadata": {},
   "outputs": [],
   "source": [
    "X_train, X_test, y_train, y_test = train_test_split(X_scaled, y, test_size=0.2, random_state=42)"
   ]
  },
  {
   "cell_type": "markdown",
   "metadata": {},
   "source": [
    "Implementación de Modelos"
   ]
  },
  {
   "cell_type": "code",
   "execution_count": 60,
   "metadata": {},
   "outputs": [],
   "source": [
    "models = {\n",
    "    \"Regresión Logística\": LogisticRegression(),\n",
    "    \"SVM\": SVC(probability=True),\n",
    "    \"Random Forest\": RandomForestClassifier()\n",
    "}"
   ]
  },
  {
   "cell_type": "markdown",
   "metadata": {},
   "source": [
    "Entrenamiento y predicción"
   ]
  },
  {
   "cell_type": "code",
   "execution_count": 61,
   "metadata": {},
   "outputs": [
    {
     "data": {
      "image/png": "[encoded data removed]",
      "text/plain": [
       "<Figure size 640x480 with 2 Axes>"
      ]
     },
     "metadata": {},
     "output_type": "display_data"
    },
    {
     "data": {
      "image/png": "[encoded data removed]",
      "text/plain": [
       "<Figure size 640x480 with 2 Axes>"
      ]
     },
     "metadata": {},
     "output_type": "display_data"
    },
    {
     "data": {
      "image/png": "[encoded data removed]",
      "text/plain": [
       "<Figure size 640x480 with 2 Axes>"
      ]
     },
     "metadata": {},
     "output_type": "display_data"
    }
   ],
   "source": [
    "# Lista para almacenar las métricas de cada modelo\n",
    "results = []\n",
    "\n",
    "# Entrenamiento y predicción\n",
    "for name, model in models.items():\n",
    "    model.fit(X_train, y_train)\n",
    "    predictions = model.predict(X_test)\n",
    "    probas = model.predict_proba(X_test)[:, 1]\n",
    "    \n",
    "    # Matriz de confusión\n",
    "    cm = confusion_matrix(y_test, predictions)\n",
    "    sns.heatmap(cm, annot=True, fmt=\"d\", cmap=\"Blues\")\n",
    "    plt.title(f\"Matriz de Confusión - {name}\")\n",
    "    plt.ylabel('Verdaderos')\n",
    "    plt.xlabel('Predicciones')\n",
    "    plt.show()\n",
    "    \n",
    "    # Calculamos las métricas de evaluación\n",
    "    accuracy = accuracy_score(y_test, predictions)\n",
    "    report = classification_report(y_test, predictions, output_dict=True)\n",
    "    precision = report['weighted avg']['precision']\n",
    "    recall = report['weighted avg']['recall']\n",
    "    f1 = report['weighted avg']['f1-score']\n",
    "    auc_score = roc_auc_score(y_test, probas)\n",
    "    \n",
    "    # Agregamos los resultados al listado\n",
    "    results.append({\"Modelo\": name, \"Accuracy\": accuracy, \"Precision\": precision, \"Recall\": recall, \"F1-Score\": f1, \"AUC\": auc_score})"
   ]
  },
  {
   "cell_type": "markdown",
   "metadata": {},
   "source": [
    "Resumen de métricas por cada modelo"
   ]
  },
  {
   "cell_type": "code",
   "execution_count": 62,
   "metadata": {},
   "outputs": [
    {
     "name": "stdout",
     "output_type": "stream",
     "text": [
      "                Modelo  Accuracy  Precision    Recall  F1-Score       AUC\n",
      "0  Logistic Regression  0.973684   0.973719  0.973684  0.973621  0.997380\n",
      "1                  SVM  0.973684   0.973719  0.973684  0.973621  0.997380\n",
      "2        Random Forest  0.964912   0.965205  0.964912  0.964738  0.996397\n"
     ]
    }
   ],
   "source": [
    "# Creamos un DataFrame con los resultados\n",
    "results_df = pd.DataFrame(results)\n",
    "\n",
    "# Mostramos la tabla de resultados\n",
    "print(results_df)"
   ]
  }
 ],
 "metadata": {
  "kernelspec": {
   "display_name": "Python 3",
   "language": "python",
   "name": "python3"
  },
  "language_info": {
   "codemirror_mode": {
    "name": "ipython",
    "version": 3
   },
   "file_extension": ".py",
   "mimetype": "text/x-python",
   "name": "python",
   "nbconvert_exporter": "python",
   "pygments_lexer": "ipython3",
   "version": "3.11.3"
  }
 },
 "nbformat": 4,
 "nbformat_minor": 2
}
